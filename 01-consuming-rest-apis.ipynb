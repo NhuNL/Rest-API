{
 "cells": [
  {
   "cell_type": "markdown",
   "metadata": {},
   "source": [
    "# Consuming REST APIs"
   ]
  },
  {
   "cell_type": "markdown",
   "metadata": {},
   "source": [
    "We'll use the [`requests`](http://www.python-requests.org/) library to interact with the [Recipe Puppy](http://www.recipepuppy.com/) search engine.\n",
    "[This page](http://www.recipepuppy.com/about/api/) provides some information on their API."
   ]
  },
  {
   "cell_type": "code",
   "execution_count": 1,
   "metadata": {},
   "outputs": [],
   "source": [
    "import json\n",
    "import pandas as pd\n",
    "import requests"
   ]
  },
  {
   "cell_type": "code",
   "execution_count": 2,
   "metadata": {},
   "outputs": [],
   "source": [
    "BASE_URL = 'http://www.recipepuppy.com/api/'"
   ]
  },
  {
   "cell_type": "markdown",
   "metadata": {},
   "source": [
    "Let's use `requests.get()` to retrieve the first page of results for pizza recipes."
   ]
  },
  {
   "cell_type": "code",
   "execution_count": 23,
   "metadata": {},
   "outputs": [],
   "source": [
    "response = requests.get(BASE_URL, params={'q': 'pizza'})\n",
    "\n",
    "# give me all pizza recipe"
   ]
  },
  {
   "cell_type": "markdown",
   "metadata": {},
   "source": [
    "If everything worked correctly, the HTTP status code of the `response` should be `200`.\n",
    "You can find a list of status codes [on Wikipedia](https://en.wikipedia.org/wiki/List_of_HTTP_status_codes)."
   ]
  },
  {
   "cell_type": "code",
   "execution_count": 24,
   "metadata": {},
   "outputs": [
    {
     "data": {
      "text/plain": [
       "200"
      ]
     },
     "execution_count": 24,
     "metadata": {},
     "output_type": "execute_result"
    }
   ],
   "source": [
    "response.status_code"
   ]
  },
  {
   "cell_type": "markdown",
   "metadata": {},
   "source": [
    "200 means success"
   ]
  },
  {
   "cell_type": "markdown",
   "metadata": {},
   "source": [
    "The response content is saved in the `content` attribute of the `response` as an array of bytes."
   ]
  },
  {
   "cell_type": "code",
   "execution_count": 25,
   "metadata": {},
   "outputs": [
    {
     "data": {
      "text/plain": [
       "b'{\"title\":\"Recipe Puppy\",\"version\":0.1,\"href\":\"http:\\\\/\\\\/www.recipepuppy.com\\\\/\",\"results\":[{\"title\":\"BBQ Chicken Pizza\",\"href\":\"http:\\\\/\\\\/www.recipezaar.com\\\\/BBQ-Chicken-Pizza-144689\",\"ingredients\":\"chicken, brown sugar, cayenne, garlic salt, green pepper, honey, italian cheese blend, salad dressing, margarine, molasses, onions, barbecue sauce, black pepper, prepared pizza crust, provolone cheese, ranch dressing, salt\",\"thumbnail\":\"\"},{\"title\":\"Basic Chicago-style Pizza Recipe\",\"href\":\"http:\\\\/\\\\/www.grouprecipes.com\\\\/65487\\\\/basic-chicago-style-pizza.html\",\"ingredients\":\"pizza, vegetable oil, cornmeal, water, flour, sausage, provolone cheese, olive oil, tomato, yeast, pepperoni, salt, salt, sugar, basil, oregano\",\"thumbnail\":\"\"},{\"title\":\"BBQ\\'d Cheeseburger Pizza\",\"href\":\"http:\\\\/\\\\/www.recipezaar.com\\\\/BBQd-Cheeseburger-Pizza-299376\",\"ingredients\":\"barbecue sauce, cheddar cheese, onions, tomato, dill pickle, dill relish, parsley, french dressing, garlic powder, ground beef, lettuce, mayonnaise, mozzarella cheese, pizza dough, mustard\",\"thumbnail\":\"http:\\\\/\\\\/img.recipepuppy.com\\\\/152332.jpg\"},{\"title\":\"Healthy Italian Bread Sticks or Pizza Crust\",\"href\":\"http:\\\\/\\\\/www.recipezaar.com\\\\/Healthy-Italian-Bread-Sticks-or-Pizza-Crust-252423\",\"ingredients\":\"brown sugar, garlic powder, italian seasoning, olive oil, onion powder, salt, flour, water, flour, yeast\",\"thumbnail\":\"http:\\\\/\\\\/img.recipepuppy.com\\\\/623733.jpg\"},{\"title\":\"Bacon Cheeseburger Pizza\",\"href\":\"http:\\\\/\\\\/www.recipezaar.com\\\\/Bacon-Cheeseburger-Pizza-205270\",\"ingredients\":\"bacon, black pepper, cheddar cheese, garlic, ground beef, mozzarella cheese, onions, parmesan cheese, pizza sauce, salt\",\"thumbnail\":\"\"},{\"title\":\"Cinnamon Pizza Sticks With Dipping Glaze\",\"href\":\"http:\\\\/\\\\/www.recipezaar.com\\\\/Cinnamon-Pizza-Sticks-With-Dipping-Glaze-167598\",\"ingredients\":\"butter, cinnamon, pizza dough, sugar\",\"thumbnail\":\"\"},{\"title\":\"Gluten Free Pepperoni Pizza Quesadilla\",\"href\":\"http:\\\\/\\\\/www.recipezaar.com\\\\/Gluten-Free-Pepperoni-Pizza-Quesadilla-302814\",\"ingredients\":\"mozzarella cheese, nonstick cooking spray, pizza sauce, tortilla, pepperoni\",\"thumbnail\":\"\"},{\"title\":\"Italian Escarole Pizza\",\"href\":\"http:\\\\/\\\\/allrecipes.com\\\\/Recipe\\\\/Italian-Escarole-Pizza\\\\/Detail.aspx\",\"ingredients\":\"garlic, escarole, mozzarella cheese, olive oil, pizza sauce, salt\",\"thumbnail\":\"\"},{\"title\":\"Goat Cheese Arugula Pizza - No Red Sauce!\",\"href\":\"http:\\\\/\\\\/allrecipes.com\\\\/Recipe\\\\/Goat-Cheese-Arugula-Pizza---No-Red-Sauce\\\\/Detail.aspx\",\"ingredients\":\"arugula, garlic, olive oil, pesto, roma tomato, pizza crust\",\"thumbnail\":\"http:\\\\/\\\\/img.recipepuppy.com\\\\/8938.jpg\"},{\"title\":\"Easy Peezy Pizza Dough (Bread Machine Pizza Dough)\",\"href\":\"http:\\\\/\\\\/www.recipezaar.com\\\\/EAZY-PEEZY-PIZZA-DOUGH-Bread-Machine-Pizza-Dough-35805\",\"ingredients\":\"bread flour, yeast, olive oil, salt, sugar, water, water\",\"thumbnail\":\"http:\\\\/\\\\/img.recipepuppy.com\\\\/34541.jpg\"}]}'"
      ]
     },
     "execution_count": 25,
     "metadata": {},
     "output_type": "execute_result"
    }
   ],
   "source": [
    "response.content"
   ]
  },
  {
   "cell_type": "markdown",
   "metadata": {},
   "source": [
    "We can use the `json.loads()` function to parse this JSON blob into the corresponding Python representation."
   ]
  },
  {
   "cell_type": "code",
   "execution_count": 26,
   "metadata": {},
   "outputs": [
    {
     "data": {
      "text/plain": [
       "{'title': 'Recipe Puppy',\n",
       " 'version': 0.1,\n",
       " 'href': 'http://www.recipepuppy.com/',\n",
       " 'results': [{'title': 'BBQ Chicken Pizza',\n",
       "   'href': 'http://www.recipezaar.com/BBQ-Chicken-Pizza-144689',\n",
       "   'ingredients': 'chicken, brown sugar, cayenne, garlic salt, green pepper, honey, italian cheese blend, salad dressing, margarine, molasses, onions, barbecue sauce, black pepper, prepared pizza crust, provolone cheese, ranch dressing, salt',\n",
       "   'thumbnail': ''},\n",
       "  {'title': 'Basic Chicago-style Pizza Recipe',\n",
       "   'href': 'http://www.grouprecipes.com/65487/basic-chicago-style-pizza.html',\n",
       "   'ingredients': 'pizza, vegetable oil, cornmeal, water, flour, sausage, provolone cheese, olive oil, tomato, yeast, pepperoni, salt, salt, sugar, basil, oregano',\n",
       "   'thumbnail': ''},\n",
       "  {'title': \"BBQ'd Cheeseburger Pizza\",\n",
       "   'href': 'http://www.recipezaar.com/BBQd-Cheeseburger-Pizza-299376',\n",
       "   'ingredients': 'barbecue sauce, cheddar cheese, onions, tomato, dill pickle, dill relish, parsley, french dressing, garlic powder, ground beef, lettuce, mayonnaise, mozzarella cheese, pizza dough, mustard',\n",
       "   'thumbnail': 'http://img.recipepuppy.com/152332.jpg'},\n",
       "  {'title': 'Healthy Italian Bread Sticks or Pizza Crust',\n",
       "   'href': 'http://www.recipezaar.com/Healthy-Italian-Bread-Sticks-or-Pizza-Crust-252423',\n",
       "   'ingredients': 'brown sugar, garlic powder, italian seasoning, olive oil, onion powder, salt, flour, water, flour, yeast',\n",
       "   'thumbnail': 'http://img.recipepuppy.com/623733.jpg'},\n",
       "  {'title': 'Bacon Cheeseburger Pizza',\n",
       "   'href': 'http://www.recipezaar.com/Bacon-Cheeseburger-Pizza-205270',\n",
       "   'ingredients': 'bacon, black pepper, cheddar cheese, garlic, ground beef, mozzarella cheese, onions, parmesan cheese, pizza sauce, salt',\n",
       "   'thumbnail': ''},\n",
       "  {'title': 'Cinnamon Pizza Sticks With Dipping Glaze',\n",
       "   'href': 'http://www.recipezaar.com/Cinnamon-Pizza-Sticks-With-Dipping-Glaze-167598',\n",
       "   'ingredients': 'butter, cinnamon, pizza dough, sugar',\n",
       "   'thumbnail': ''},\n",
       "  {'title': 'Gluten Free Pepperoni Pizza Quesadilla',\n",
       "   'href': 'http://www.recipezaar.com/Gluten-Free-Pepperoni-Pizza-Quesadilla-302814',\n",
       "   'ingredients': 'mozzarella cheese, nonstick cooking spray, pizza sauce, tortilla, pepperoni',\n",
       "   'thumbnail': ''},\n",
       "  {'title': 'Italian Escarole Pizza',\n",
       "   'href': 'http://allrecipes.com/Recipe/Italian-Escarole-Pizza/Detail.aspx',\n",
       "   'ingredients': 'garlic, escarole, mozzarella cheese, olive oil, pizza sauce, salt',\n",
       "   'thumbnail': ''},\n",
       "  {'title': 'Goat Cheese Arugula Pizza - No Red Sauce!',\n",
       "   'href': 'http://allrecipes.com/Recipe/Goat-Cheese-Arugula-Pizza---No-Red-Sauce/Detail.aspx',\n",
       "   'ingredients': 'arugula, garlic, olive oil, pesto, roma tomato, pizza crust',\n",
       "   'thumbnail': 'http://img.recipepuppy.com/8938.jpg'},\n",
       "  {'title': 'Easy Peezy Pizza Dough (Bread Machine Pizza Dough)',\n",
       "   'href': 'http://www.recipezaar.com/EAZY-PEEZY-PIZZA-DOUGH-Bread-Machine-Pizza-Dough-35805',\n",
       "   'ingredients': 'bread flour, yeast, olive oil, salt, sugar, water, water',\n",
       "   'thumbnail': 'http://img.recipepuppy.com/34541.jpg'}]}"
      ]
     },
     "execution_count": 26,
     "metadata": {},
     "output_type": "execute_result"
    }
   ],
   "source": [
    "json.loads(response.content)"
   ]
  },
  {
   "cell_type": "markdown",
   "metadata": {},
   "source": [
    "Alternatively, we can use the `json()` method of `response` to do the same."
   ]
  },
  {
   "cell_type": "code",
   "execution_count": 27,
   "metadata": {},
   "outputs": [],
   "source": [
    "json_response = response.json()"
   ]
  },
  {
   "cell_type": "code",
   "execution_count": 28,
   "metadata": {},
   "outputs": [
    {
     "data": {
      "text/plain": [
       "{'title': 'Recipe Puppy',\n",
       " 'version': 0.1,\n",
       " 'href': 'http://www.recipepuppy.com/',\n",
       " 'results': [{'title': 'BBQ Chicken Pizza',\n",
       "   'href': 'http://www.recipezaar.com/BBQ-Chicken-Pizza-144689',\n",
       "   'ingredients': 'chicken, brown sugar, cayenne, garlic salt, green pepper, honey, italian cheese blend, salad dressing, margarine, molasses, onions, barbecue sauce, black pepper, prepared pizza crust, provolone cheese, ranch dressing, salt',\n",
       "   'thumbnail': ''},\n",
       "  {'title': 'Basic Chicago-style Pizza Recipe',\n",
       "   'href': 'http://www.grouprecipes.com/65487/basic-chicago-style-pizza.html',\n",
       "   'ingredients': 'pizza, vegetable oil, cornmeal, water, flour, sausage, provolone cheese, olive oil, tomato, yeast, pepperoni, salt, salt, sugar, basil, oregano',\n",
       "   'thumbnail': ''},\n",
       "  {'title': \"BBQ'd Cheeseburger Pizza\",\n",
       "   'href': 'http://www.recipezaar.com/BBQd-Cheeseburger-Pizza-299376',\n",
       "   'ingredients': 'barbecue sauce, cheddar cheese, onions, tomato, dill pickle, dill relish, parsley, french dressing, garlic powder, ground beef, lettuce, mayonnaise, mozzarella cheese, pizza dough, mustard',\n",
       "   'thumbnail': 'http://img.recipepuppy.com/152332.jpg'},\n",
       "  {'title': 'Healthy Italian Bread Sticks or Pizza Crust',\n",
       "   'href': 'http://www.recipezaar.com/Healthy-Italian-Bread-Sticks-or-Pizza-Crust-252423',\n",
       "   'ingredients': 'brown sugar, garlic powder, italian seasoning, olive oil, onion powder, salt, flour, water, flour, yeast',\n",
       "   'thumbnail': 'http://img.recipepuppy.com/623733.jpg'},\n",
       "  {'title': 'Bacon Cheeseburger Pizza',\n",
       "   'href': 'http://www.recipezaar.com/Bacon-Cheeseburger-Pizza-205270',\n",
       "   'ingredients': 'bacon, black pepper, cheddar cheese, garlic, ground beef, mozzarella cheese, onions, parmesan cheese, pizza sauce, salt',\n",
       "   'thumbnail': ''},\n",
       "  {'title': 'Cinnamon Pizza Sticks With Dipping Glaze',\n",
       "   'href': 'http://www.recipezaar.com/Cinnamon-Pizza-Sticks-With-Dipping-Glaze-167598',\n",
       "   'ingredients': 'butter, cinnamon, pizza dough, sugar',\n",
       "   'thumbnail': ''},\n",
       "  {'title': 'Gluten Free Pepperoni Pizza Quesadilla',\n",
       "   'href': 'http://www.recipezaar.com/Gluten-Free-Pepperoni-Pizza-Quesadilla-302814',\n",
       "   'ingredients': 'mozzarella cheese, nonstick cooking spray, pizza sauce, tortilla, pepperoni',\n",
       "   'thumbnail': ''},\n",
       "  {'title': 'Italian Escarole Pizza',\n",
       "   'href': 'http://allrecipes.com/Recipe/Italian-Escarole-Pizza/Detail.aspx',\n",
       "   'ingredients': 'garlic, escarole, mozzarella cheese, olive oil, pizza sauce, salt',\n",
       "   'thumbnail': ''},\n",
       "  {'title': 'Goat Cheese Arugula Pizza - No Red Sauce!',\n",
       "   'href': 'http://allrecipes.com/Recipe/Goat-Cheese-Arugula-Pizza---No-Red-Sauce/Detail.aspx',\n",
       "   'ingredients': 'arugula, garlic, olive oil, pesto, roma tomato, pizza crust',\n",
       "   'thumbnail': 'http://img.recipepuppy.com/8938.jpg'},\n",
       "  {'title': 'Easy Peezy Pizza Dough (Bread Machine Pizza Dough)',\n",
       "   'href': 'http://www.recipezaar.com/EAZY-PEEZY-PIZZA-DOUGH-Bread-Machine-Pizza-Dough-35805',\n",
       "   'ingredients': 'bread flour, yeast, olive oil, salt, sugar, water, water',\n",
       "   'thumbnail': 'http://img.recipepuppy.com/34541.jpg'}]}"
      ]
     },
     "execution_count": 28,
     "metadata": {},
     "output_type": "execute_result"
    }
   ],
   "source": [
    "json_response"
   ]
  },
  {
   "cell_type": "markdown",
   "metadata": {},
   "source": [
    "Let's now extract `title` and `ingredients` for each recipe and transform the latter into a list."
   ]
  },
  {
   "cell_type": "code",
   "execution_count": 29,
   "metadata": {},
   "outputs": [],
   "source": [
    "recipes = [{'title': x['title'],\n",
    "            'ingredients': x['ingredients'].split(', ')}\n",
    "           for x in json_response['results']]"
   ]
  },
  {
   "cell_type": "code",
   "execution_count": 30,
   "metadata": {},
   "outputs": [
    {
     "data": {
      "text/plain": [
       "[{'title': 'BBQ Chicken Pizza',\n",
       "  'ingredients': ['chicken',\n",
       "   'brown sugar',\n",
       "   'cayenne',\n",
       "   'garlic salt',\n",
       "   'green pepper',\n",
       "   'honey',\n",
       "   'italian cheese blend',\n",
       "   'salad dressing',\n",
       "   'margarine',\n",
       "   'molasses',\n",
       "   'onions',\n",
       "   'barbecue sauce',\n",
       "   'black pepper',\n",
       "   'prepared pizza crust',\n",
       "   'provolone cheese',\n",
       "   'ranch dressing',\n",
       "   'salt']},\n",
       " {'title': 'Basic Chicago-style Pizza Recipe',\n",
       "  'ingredients': ['pizza',\n",
       "   'vegetable oil',\n",
       "   'cornmeal',\n",
       "   'water',\n",
       "   'flour',\n",
       "   'sausage',\n",
       "   'provolone cheese',\n",
       "   'olive oil',\n",
       "   'tomato',\n",
       "   'yeast',\n",
       "   'pepperoni',\n",
       "   'salt',\n",
       "   'salt',\n",
       "   'sugar',\n",
       "   'basil',\n",
       "   'oregano']},\n",
       " {'title': \"BBQ'd Cheeseburger Pizza\",\n",
       "  'ingredients': ['barbecue sauce',\n",
       "   'cheddar cheese',\n",
       "   'onions',\n",
       "   'tomato',\n",
       "   'dill pickle',\n",
       "   'dill relish',\n",
       "   'parsley',\n",
       "   'french dressing',\n",
       "   'garlic powder',\n",
       "   'ground beef',\n",
       "   'lettuce',\n",
       "   'mayonnaise',\n",
       "   'mozzarella cheese',\n",
       "   'pizza dough',\n",
       "   'mustard']},\n",
       " {'title': 'Healthy Italian Bread Sticks or Pizza Crust',\n",
       "  'ingredients': ['brown sugar',\n",
       "   'garlic powder',\n",
       "   'italian seasoning',\n",
       "   'olive oil',\n",
       "   'onion powder',\n",
       "   'salt',\n",
       "   'flour',\n",
       "   'water',\n",
       "   'flour',\n",
       "   'yeast']},\n",
       " {'title': 'Bacon Cheeseburger Pizza',\n",
       "  'ingredients': ['bacon',\n",
       "   'black pepper',\n",
       "   'cheddar cheese',\n",
       "   'garlic',\n",
       "   'ground beef',\n",
       "   'mozzarella cheese',\n",
       "   'onions',\n",
       "   'parmesan cheese',\n",
       "   'pizza sauce',\n",
       "   'salt']},\n",
       " {'title': 'Cinnamon Pizza Sticks With Dipping Glaze',\n",
       "  'ingredients': ['butter', 'cinnamon', 'pizza dough', 'sugar']},\n",
       " {'title': 'Gluten Free Pepperoni Pizza Quesadilla',\n",
       "  'ingredients': ['mozzarella cheese',\n",
       "   'nonstick cooking spray',\n",
       "   'pizza sauce',\n",
       "   'tortilla',\n",
       "   'pepperoni']},\n",
       " {'title': 'Italian Escarole Pizza',\n",
       "  'ingredients': ['garlic',\n",
       "   'escarole',\n",
       "   'mozzarella cheese',\n",
       "   'olive oil',\n",
       "   'pizza sauce',\n",
       "   'salt']},\n",
       " {'title': 'Goat Cheese Arugula Pizza - No Red Sauce!',\n",
       "  'ingredients': ['arugula',\n",
       "   'garlic',\n",
       "   'olive oil',\n",
       "   'pesto',\n",
       "   'roma tomato',\n",
       "   'pizza crust']},\n",
       " {'title': 'Easy Peezy Pizza Dough (Bread Machine Pizza Dough)',\n",
       "  'ingredients': ['bread flour',\n",
       "   'yeast',\n",
       "   'olive oil',\n",
       "   'salt',\n",
       "   'sugar',\n",
       "   'water',\n",
       "   'water']}]"
      ]
     },
     "execution_count": 30,
     "metadata": {},
     "output_type": "execute_result"
    }
   ],
   "source": [
    "recipes"
   ]
  },
  {
   "cell_type": "markdown",
   "metadata": {},
   "source": [
    "Finally, let's put everything together in a function."
   ]
  },
  {
   "cell_type": "code",
   "execution_count": 31,
   "metadata": {},
   "outputs": [],
   "source": [
    "#this function put everything together from above\n",
    "def get_recipes(query, page=1):\n",
    "    params = {'q': query, 'p': page}\n",
    "    response = requests.get(BASE_URL, params=params)\n",
    "    response.raise_for_status()\n",
    "    return [{'title': x['title'],\n",
    "             'ingredients': x['ingredients'].split(', ')}\n",
    "            for x in response.json()['results']]"
   ]
  },
  {
   "cell_type": "code",
   "execution_count": 32,
   "metadata": {},
   "outputs": [
    {
     "data": {
      "text/plain": [
       "[{'title': 'BBQ Chicken Pizza',\n",
       "  'ingredients': ['chicken',\n",
       "   'brown sugar',\n",
       "   'cayenne',\n",
       "   'garlic salt',\n",
       "   'green pepper',\n",
       "   'honey',\n",
       "   'italian cheese blend',\n",
       "   'salad dressing',\n",
       "   'margarine',\n",
       "   'molasses',\n",
       "   'onions',\n",
       "   'barbecue sauce',\n",
       "   'black pepper',\n",
       "   'prepared pizza crust',\n",
       "   'provolone cheese',\n",
       "   'ranch dressing',\n",
       "   'salt']},\n",
       " {'title': 'Basic Chicago-style Pizza Recipe',\n",
       "  'ingredients': ['pizza',\n",
       "   'vegetable oil',\n",
       "   'cornmeal',\n",
       "   'water',\n",
       "   'flour',\n",
       "   'sausage',\n",
       "   'provolone cheese',\n",
       "   'olive oil',\n",
       "   'tomato',\n",
       "   'yeast',\n",
       "   'pepperoni',\n",
       "   'salt',\n",
       "   'salt',\n",
       "   'sugar',\n",
       "   'basil',\n",
       "   'oregano']},\n",
       " {'title': \"BBQ'd Cheeseburger Pizza\",\n",
       "  'ingredients': ['barbecue sauce',\n",
       "   'cheddar cheese',\n",
       "   'onions',\n",
       "   'tomato',\n",
       "   'dill pickle',\n",
       "   'dill relish',\n",
       "   'parsley',\n",
       "   'french dressing',\n",
       "   'garlic powder',\n",
       "   'ground beef',\n",
       "   'lettuce',\n",
       "   'mayonnaise',\n",
       "   'mozzarella cheese',\n",
       "   'pizza dough',\n",
       "   'mustard']},\n",
       " {'title': 'Healthy Italian Bread Sticks or Pizza Crust',\n",
       "  'ingredients': ['brown sugar',\n",
       "   'garlic powder',\n",
       "   'italian seasoning',\n",
       "   'olive oil',\n",
       "   'onion powder',\n",
       "   'salt',\n",
       "   'flour',\n",
       "   'water',\n",
       "   'flour',\n",
       "   'yeast']},\n",
       " {'title': 'Bacon Cheeseburger Pizza',\n",
       "  'ingredients': ['bacon',\n",
       "   'black pepper',\n",
       "   'cheddar cheese',\n",
       "   'garlic',\n",
       "   'ground beef',\n",
       "   'mozzarella cheese',\n",
       "   'onions',\n",
       "   'parmesan cheese',\n",
       "   'pizza sauce',\n",
       "   'salt']},\n",
       " {'title': 'Cinnamon Pizza Sticks With Dipping Glaze',\n",
       "  'ingredients': ['butter', 'cinnamon', 'pizza dough', 'sugar']},\n",
       " {'title': 'Gluten Free Pepperoni Pizza Quesadilla',\n",
       "  'ingredients': ['mozzarella cheese',\n",
       "   'nonstick cooking spray',\n",
       "   'pizza sauce',\n",
       "   'tortilla',\n",
       "   'pepperoni']},\n",
       " {'title': 'Italian Escarole Pizza',\n",
       "  'ingredients': ['garlic',\n",
       "   'escarole',\n",
       "   'mozzarella cheese',\n",
       "   'olive oil',\n",
       "   'pizza sauce',\n",
       "   'salt']},\n",
       " {'title': 'Goat Cheese Arugula Pizza - No Red Sauce!',\n",
       "  'ingredients': ['arugula',\n",
       "   'garlic',\n",
       "   'olive oil',\n",
       "   'pesto',\n",
       "   'roma tomato',\n",
       "   'pizza crust']},\n",
       " {'title': 'Easy Peezy Pizza Dough (Bread Machine Pizza Dough)',\n",
       "  'ingredients': ['bread flour',\n",
       "   'yeast',\n",
       "   'olive oil',\n",
       "   'salt',\n",
       "   'sugar',\n",
       "   'water',\n",
       "   'water']}]"
      ]
     },
     "execution_count": 32,
     "metadata": {},
     "output_type": "execute_result"
    }
   ],
   "source": [
    "get_recipes('pizza')"
   ]
  },
  {
   "cell_type": "markdown",
   "metadata": {},
   "source": [
    "We can call `get_recipes()` multiple times to retrieve consecutive pages of results."
   ]
  },
  {
   "cell_type": "code",
   "execution_count": 33,
   "metadata": {},
   "outputs": [
    {
     "name": "stdout",
     "output_type": "stream",
     "text": [
      "Retrieving page 1...\n",
      "Retrieving page 2...\n",
      "Retrieving page 3...\n",
      "Retrieving page 4...\n",
      "Retrieving page 5...\n",
      "Retrieving page 6...\n",
      "Retrieving page 7...\n",
      "Retrieving page 8...\n",
      "Retrieving page 9...\n",
      "Retrieving page 10...\n"
     ]
    }
   ],
   "source": [
    "query = 'pizza'\n",
    "recipes = []\n",
    "for page in range(1, 11):\n",
    "    print('Retrieving page {}...'.format(page))\n",
    "    recipes.extend(get_recipes(query, page))"
   ]
  },
  {
   "cell_type": "code",
   "execution_count": 34,
   "metadata": {},
   "outputs": [
    {
     "data": {
      "text/plain": [
       "100"
      ]
     },
     "execution_count": 34,
     "metadata": {},
     "output_type": "execute_result"
    }
   ],
   "source": [
    "len(recipes)"
   ]
  },
  {
   "cell_type": "markdown",
   "metadata": {},
   "source": [
    "We can also easily turn the resulting list of dictionaries into a `DataFrame`."
   ]
  },
  {
   "cell_type": "code",
   "execution_count": 37,
   "metadata": {},
   "outputs": [],
   "source": [
    "# we have convert it to a dataframe\n",
    "recipes_df = pd.DataFrame(recipes)"
   ]
  },
  {
   "cell_type": "code",
   "execution_count": 40,
   "metadata": {},
   "outputs": [
    {
     "data": {
      "text/html": [
       "<div>\n",
       "<style scoped>\n",
       "    .dataframe tbody tr th:only-of-type {\n",
       "        vertical-align: middle;\n",
       "    }\n",
       "\n",
       "    .dataframe tbody tr th {\n",
       "        vertical-align: top;\n",
       "    }\n",
       "\n",
       "    .dataframe thead th {\n",
       "        text-align: right;\n",
       "    }\n",
       "</style>\n",
       "<table border=\"1\" class=\"dataframe\">\n",
       "  <thead>\n",
       "    <tr style=\"text-align: right;\">\n",
       "      <th></th>\n",
       "      <th>ingredients</th>\n",
       "      <th>title</th>\n",
       "      <th>id</th>\n",
       "    </tr>\n",
       "  </thead>\n",
       "  <tbody>\n",
       "    <tr>\n",
       "      <th>0</th>\n",
       "      <td>[chicken, brown sugar, cayenne, garlic salt, g...</td>\n",
       "      <td>BBQ Chicken Pizza</td>\n",
       "      <td>0</td>\n",
       "    </tr>\n",
       "    <tr>\n",
       "      <th>1</th>\n",
       "      <td>[pizza, vegetable oil, cornmeal, water, flour,...</td>\n",
       "      <td>Basic Chicago-style Pizza Recipe</td>\n",
       "      <td>1</td>\n",
       "    </tr>\n",
       "    <tr>\n",
       "      <th>2</th>\n",
       "      <td>[barbecue sauce, cheddar cheese, onions, tomat...</td>\n",
       "      <td>BBQ'd Cheeseburger Pizza</td>\n",
       "      <td>2</td>\n",
       "    </tr>\n",
       "    <tr>\n",
       "      <th>3</th>\n",
       "      <td>[brown sugar, garlic powder, italian seasoning...</td>\n",
       "      <td>Healthy Italian Bread Sticks or Pizza Crust</td>\n",
       "      <td>3</td>\n",
       "    </tr>\n",
       "    <tr>\n",
       "      <th>4</th>\n",
       "      <td>[bacon, black pepper, cheddar cheese, garlic, ...</td>\n",
       "      <td>Bacon Cheeseburger Pizza</td>\n",
       "      <td>4</td>\n",
       "    </tr>\n",
       "  </tbody>\n",
       "</table>\n",
       "</div>"
      ],
      "text/plain": [
       "                                         ingredients  \\\n",
       "0  [chicken, brown sugar, cayenne, garlic salt, g...   \n",
       "1  [pizza, vegetable oil, cornmeal, water, flour,...   \n",
       "2  [barbecue sauce, cheddar cheese, onions, tomat...   \n",
       "3  [brown sugar, garlic powder, italian seasoning...   \n",
       "4  [bacon, black pepper, cheddar cheese, garlic, ...   \n",
       "\n",
       "                                         title  id  \n",
       "0                            BBQ Chicken Pizza   0  \n",
       "1             Basic Chicago-style Pizza Recipe   1  \n",
       "2                     BBQ'd Cheeseburger Pizza   2  \n",
       "3  Healthy Italian Bread Sticks or Pizza Crust   3  \n",
       "4                     Bacon Cheeseburger Pizza   4  "
      ]
     },
     "execution_count": 40,
     "metadata": {},
     "output_type": "execute_result"
    }
   ],
   "source": [
    "recipes_df.head(5)"
   ]
  },
  {
   "cell_type": "markdown",
   "metadata": {},
   "source": [
    "Before running some analyses, let's also add an `id` column and flatten out `ingredients`."
   ]
  },
  {
   "cell_type": "code",
   "execution_count": 41,
   "metadata": {},
   "outputs": [],
   "source": [
    "recipes_df['id'] = range(len(recipes_df))"
   ]
  },
  {
   "cell_type": "code",
   "execution_count": 42,
   "metadata": {},
   "outputs": [],
   "source": [
    "flat_ingredients = recipes_df['ingredients']\\\n",
    "                   .apply(pd.Series)\\\n",
    "                   .stack()\\\n",
    "                   .reset_index(level=1, drop=True)\\\n",
    "                   .rename('ingredient')\n",
    "\n",
    "recipes_df = recipes_df.join(flat_ingredients).reset_index(drop=True).drop(columns=['ingredients'])"
   ]
  },
  {
   "cell_type": "code",
   "execution_count": 43,
   "metadata": {},
   "outputs": [
    {
     "data": {
      "text/html": [
       "<div>\n",
       "<style scoped>\n",
       "    .dataframe tbody tr th:only-of-type {\n",
       "        vertical-align: middle;\n",
       "    }\n",
       "\n",
       "    .dataframe tbody tr th {\n",
       "        vertical-align: top;\n",
       "    }\n",
       "\n",
       "    .dataframe thead th {\n",
       "        text-align: right;\n",
       "    }\n",
       "</style>\n",
       "<table border=\"1\" class=\"dataframe\">\n",
       "  <thead>\n",
       "    <tr style=\"text-align: right;\">\n",
       "      <th></th>\n",
       "      <th>title</th>\n",
       "      <th>id</th>\n",
       "      <th>ingredient</th>\n",
       "    </tr>\n",
       "  </thead>\n",
       "  <tbody>\n",
       "    <tr>\n",
       "      <th>0</th>\n",
       "      <td>BBQ Chicken Pizza</td>\n",
       "      <td>0</td>\n",
       "      <td>chicken</td>\n",
       "    </tr>\n",
       "    <tr>\n",
       "      <th>1</th>\n",
       "      <td>BBQ Chicken Pizza</td>\n",
       "      <td>0</td>\n",
       "      <td>brown sugar</td>\n",
       "    </tr>\n",
       "    <tr>\n",
       "      <th>2</th>\n",
       "      <td>BBQ Chicken Pizza</td>\n",
       "      <td>0</td>\n",
       "      <td>cayenne</td>\n",
       "    </tr>\n",
       "    <tr>\n",
       "      <th>3</th>\n",
       "      <td>BBQ Chicken Pizza</td>\n",
       "      <td>0</td>\n",
       "      <td>garlic salt</td>\n",
       "    </tr>\n",
       "    <tr>\n",
       "      <th>4</th>\n",
       "      <td>BBQ Chicken Pizza</td>\n",
       "      <td>0</td>\n",
       "      <td>green pepper</td>\n",
       "    </tr>\n",
       "  </tbody>\n",
       "</table>\n",
       "</div>"
      ],
      "text/plain": [
       "               title  id    ingredient\n",
       "0  BBQ Chicken Pizza   0       chicken\n",
       "1  BBQ Chicken Pizza   0   brown sugar\n",
       "2  BBQ Chicken Pizza   0       cayenne\n",
       "3  BBQ Chicken Pizza   0   garlic salt\n",
       "4  BBQ Chicken Pizza   0  green pepper"
      ]
     },
     "execution_count": 43,
     "metadata": {},
     "output_type": "execute_result"
    }
   ],
   "source": [
    "recipes_df.head()"
   ]
  },
  {
   "cell_type": "markdown",
   "metadata": {},
   "source": [
    "Now that our recipes are in this familiar format, we can start running our analyses.\n",
    "For example, which are the most common ingredients?"
   ]
  },
  {
   "cell_type": "code",
   "execution_count": 44,
   "metadata": {},
   "outputs": [
    {
     "data": {
      "text/plain": [
       "olive oil            56\n",
       "mozzarella cheese    46\n",
       "salt                 36\n",
       "garlic               34\n",
       "water                33\n",
       "Name: ingredient, dtype: int64"
      ]
     },
     "execution_count": 44,
     "metadata": {},
     "output_type": "execute_result"
    }
   ],
   "source": [
    "recipes_df['ingredient'].value_counts().head(5)"
   ]
  },
  {
   "cell_type": "markdown",
   "metadata": {},
   "source": [
    "Which are the recipes with the most ingredients?"
   ]
  },
  {
   "cell_type": "code",
   "execution_count": 45,
   "metadata": {},
   "outputs": [
    {
     "data": {
      "text/plain": [
       "id  title                                                       \n",
       "56  White Pizza With Fennel Goat Cheese Rosemary And More Recipe    20\n",
       "61  Healthy Pizzeria Style Pizza Recipe                             20\n",
       "0   BBQ Chicken Pizza                                               17\n",
       "80  Garlic Chicken Pizza                                            16\n",
       "1   Basic Chicago-style Pizza Recipe                                16\n",
       "Name: ingredient, dtype: int64"
      ]
     },
     "execution_count": 45,
     "metadata": {},
     "output_type": "execute_result"
    }
   ],
   "source": [
    "recipes_df.groupby(['id', 'title'])\\\n",
    "          ['ingredient'].count()\\\n",
    "          .sort_values(ascending=False)\\\n",
    "          .head(5)"
   ]
  },
  {
   "cell_type": "code",
   "execution_count": null,
   "metadata": {},
   "outputs": [],
   "source": []
  }
 ],
 "metadata": {
  "kernelspec": {
   "display_name": "Python 3",
   "language": "python",
   "name": "python3"
  },
  "language_info": {
   "codemirror_mode": {
    "name": "ipython",
    "version": 3
   },
   "file_extension": ".py",
   "mimetype": "text/x-python",
   "name": "python",
   "nbconvert_exporter": "python",
   "pygments_lexer": "ipython3",
   "version": "3.7.1"
  }
 },
 "nbformat": 4,
 "nbformat_minor": 2
}
